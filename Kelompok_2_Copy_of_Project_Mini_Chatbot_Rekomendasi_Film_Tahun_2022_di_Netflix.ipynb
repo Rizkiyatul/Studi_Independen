{
  "nbformat": 4,
  "nbformat_minor": 0,
  "metadata": {
    "colab": {
      "name": "Kelompok 2. Copy of Project Mini Chatbot Rekomendasi Film Tahun 2022 di Netflix.ipynb",
      "provenance": [],
      "collapsed_sections": [],
      "include_colab_link": true
    },
    "kernelspec": {
      "name": "python3",
      "display_name": "Python 3"
    },
    "language_info": {
      "name": "python"
    }
  },
  "cells": [
    {
      "cell_type": "markdown",
      "metadata": {
        "id": "view-in-github",
        "colab_type": "text"
      },
      "source": [
        "<a href=\"https://colab.research.google.com/github/Rizkiyatul/Studi_Independen/blob/main/Kelompok_2_Copy_of_Project_Mini_Chatbot_Rekomendasi_Film_Tahun_2022_di_Netflix.ipynb\" target=\"_parent\"><img src=\"https://colab.research.google.com/assets/colab-badge.svg\" alt=\"Open In Colab\"/></a>"
      ]
    },
    {
      "cell_type": "markdown",
      "source": [
        "## Project Mini Chatbot Rekomendasi Film Tahun 2022 di Netflix\n"
      ],
      "metadata": {
        "id": "vSb0QHrcsGc9"
      }
    },
    {
      "cell_type": "markdown",
      "source": [
        "## Kelompok 2\n",
        "1. Denggan Aulia Lubis (winning eleven)\n",
        "2. Ismi Oktaviani (winning eleven)\n",
        "3. putri andriani (winning eleven)\n",
        "4. Miftah khuljanah (Winning Eleven)\n",
        "5. Rizkiyatul Komariyah (Jumatec)\n",
        "6. MOKHAMMAD FATIKHUL IKHSAN (jumatec)\n",
        "7. Rafli Saviola (Jumatec)\n",
        "8. Jaya Hartina Harahap ( Jumatec)"
      ],
      "metadata": {
        "id": "-nys5d9aIsnb"
      }
    },
    {
      "cell_type": "code",
      "execution_count": null,
      "metadata": {
        "id": "yE4rWjtACRGf"
      },
      "outputs": [],
      "source": [
        "#sumber materi : https://lifestyle.bisnis.com/read/20220302/254/1506079/19-film-dan-serial-wajib-nonton-di-netflix-sepanjang-maret-2022"
      ]
    },
    {
      "cell_type": "markdown",
      "source": [
        "#### Tools Scarping Data"
      ],
      "metadata": {
        "id": "o_hVe6k0tDNa"
      }
    },
    {
      "cell_type": "code",
      "execution_count": null,
      "metadata": {
        "colab": {
          "base_uri": "https://localhost:8080/"
        },
        "id": "ye3nyhSyCRGi",
        "outputId": "7fca943e-74a0-4a81-8af7-ca8bef1d2183"
      },
      "outputs": [
        {
          "output_type": "stream",
          "name": "stdout",
          "text": [
            "Collecting newspaper3k\n",
            "  Downloading newspaper3k-0.2.8-py3-none-any.whl (211 kB)\n",
            "\u001b[K     |████████████████████████████████| 211 kB 5.3 MB/s \n",
            "\u001b[?25hCollecting feedfinder2>=0.0.4\n",
            "  Downloading feedfinder2-0.0.4.tar.gz (3.3 kB)\n",
            "Requirement already satisfied: PyYAML>=3.11 in /usr/local/lib/python3.7/dist-packages (from newspaper3k) (3.13)\n",
            "Requirement already satisfied: lxml>=3.6.0 in /usr/local/lib/python3.7/dist-packages (from newspaper3k) (4.2.6)\n",
            "Collecting tldextract>=2.0.1\n",
            "  Downloading tldextract-3.2.0-py3-none-any.whl (87 kB)\n",
            "\u001b[K     |████████████████████████████████| 87 kB 5.5 MB/s \n",
            "\u001b[?25hRequirement already satisfied: python-dateutil>=2.5.3 in /usr/local/lib/python3.7/dist-packages (from newspaper3k) (2.8.2)\n",
            "Requirement already satisfied: Pillow>=3.3.0 in /usr/local/lib/python3.7/dist-packages (from newspaper3k) (7.1.2)\n",
            "Requirement already satisfied: nltk>=3.2.1 in /usr/local/lib/python3.7/dist-packages (from newspaper3k) (3.2.5)\n",
            "Collecting feedparser>=5.2.1\n",
            "  Downloading feedparser-6.0.8-py3-none-any.whl (81 kB)\n",
            "\u001b[K     |████████████████████████████████| 81 kB 7.3 MB/s \n",
            "\u001b[?25hRequirement already satisfied: beautifulsoup4>=4.4.1 in /usr/local/lib/python3.7/dist-packages (from newspaper3k) (4.6.3)\n",
            "Requirement already satisfied: requests>=2.10.0 in /usr/local/lib/python3.7/dist-packages (from newspaper3k) (2.23.0)\n",
            "Collecting jieba3k>=0.35.1\n",
            "  Downloading jieba3k-0.35.1.zip (7.4 MB)\n",
            "\u001b[K     |████████████████████████████████| 7.4 MB 24.9 MB/s \n",
            "\u001b[?25hCollecting tinysegmenter==0.3\n",
            "  Downloading tinysegmenter-0.3.tar.gz (16 kB)\n",
            "Collecting cssselect>=0.9.2\n",
            "  Downloading cssselect-1.1.0-py2.py3-none-any.whl (16 kB)\n",
            "Requirement already satisfied: six in /usr/local/lib/python3.7/dist-packages (from feedfinder2>=0.0.4->newspaper3k) (1.15.0)\n",
            "Collecting sgmllib3k\n",
            "  Downloading sgmllib3k-1.0.0.tar.gz (5.8 kB)\n",
            "Requirement already satisfied: idna<3,>=2.5 in /usr/local/lib/python3.7/dist-packages (from requests>=2.10.0->newspaper3k) (2.10)\n",
            "Requirement already satisfied: chardet<4,>=3.0.2 in /usr/local/lib/python3.7/dist-packages (from requests>=2.10.0->newspaper3k) (3.0.4)\n",
            "Requirement already satisfied: urllib3!=1.25.0,!=1.25.1,<1.26,>=1.21.1 in /usr/local/lib/python3.7/dist-packages (from requests>=2.10.0->newspaper3k) (1.24.3)\n",
            "Requirement already satisfied: certifi>=2017.4.17 in /usr/local/lib/python3.7/dist-packages (from requests>=2.10.0->newspaper3k) (2021.10.8)\n",
            "Collecting requests-file>=1.4\n",
            "  Downloading requests_file-1.5.1-py2.py3-none-any.whl (3.7 kB)\n",
            "Requirement already satisfied: filelock>=3.0.8 in /usr/local/lib/python3.7/dist-packages (from tldextract>=2.0.1->newspaper3k) (3.6.0)\n",
            "Building wheels for collected packages: tinysegmenter, feedfinder2, jieba3k, sgmllib3k\n",
            "  Building wheel for tinysegmenter (setup.py) ... \u001b[?25l\u001b[?25hdone\n",
            "  Created wheel for tinysegmenter: filename=tinysegmenter-0.3-py3-none-any.whl size=13553 sha256=227932c4fc0579ee51839c50d1240b884e4c905d0cbb95aba74714c615302767\n",
            "  Stored in directory: /root/.cache/pip/wheels/df/67/41/faca10fa501ca010be41b49d40360c2959e1c4f09bcbfa37fa\n",
            "  Building wheel for feedfinder2 (setup.py) ... \u001b[?25l\u001b[?25hdone\n",
            "  Created wheel for feedfinder2: filename=feedfinder2-0.0.4-py3-none-any.whl size=3357 sha256=224b992eebbd4c361b4e591e88730953dfc138ac18d6f9377191c32dd071adad\n",
            "  Stored in directory: /root/.cache/pip/wheels/7f/d4/8f/6e2ca54744c9d7292d88ddb8d42876bcdab5e6d84a21c10346\n",
            "  Building wheel for jieba3k (setup.py) ... \u001b[?25l\u001b[?25hdone\n",
            "  Created wheel for jieba3k: filename=jieba3k-0.35.1-py3-none-any.whl size=7398404 sha256=dc55bd087236de62b3b72d15bcc9a83d4381eb3acfd5f3a8efb52b0750f82067\n",
            "  Stored in directory: /root/.cache/pip/wheels/4c/91/46/3c208287b726df325a5979574324878b679116e4baae1af3c3\n",
            "  Building wheel for sgmllib3k (setup.py) ... \u001b[?25l\u001b[?25hdone\n",
            "  Created wheel for sgmllib3k: filename=sgmllib3k-1.0.0-py3-none-any.whl size=6066 sha256=126b8ad4d74e0005e517a2dc5c0551056386b4553f3ff743e1893c7a3ddde8d7\n",
            "  Stored in directory: /root/.cache/pip/wheels/73/ad/a4/0dff4a6ef231fc0dfa12ffbac2a36cebfdddfe059f50e019aa\n",
            "Successfully built tinysegmenter feedfinder2 jieba3k sgmllib3k\n",
            "Installing collected packages: sgmllib3k, requests-file, tldextract, tinysegmenter, jieba3k, feedparser, feedfinder2, cssselect, newspaper3k\n",
            "Successfully installed cssselect-1.1.0 feedfinder2-0.0.4 feedparser-6.0.8 jieba3k-0.35.1 newspaper3k-0.2.8 requests-file-1.5.1 sgmllib3k-1.0.0 tinysegmenter-0.3 tldextract-3.2.0\n"
          ]
        }
      ],
      "source": [
        "!pip install newspaper3k #untuk scraping artikel pada web"
      ]
    },
    {
      "cell_type": "code",
      "execution_count": null,
      "metadata": {
        "id": "4FGmgeEECRGi"
      },
      "outputs": [],
      "source": [
        "# Import library\n",
        "from newspaper import Article\n",
        "import random #membantu dalam membuat list kata agar chattbot yang dibuat tidak monoton dengan respon jawabannya\n",
        "import nltk #untuk tokenisasi (library yang menyediakan corpus yang akan kita pakai dalam membuat chattbot)\n",
        "import string #untuk keperluan data bertype string\n",
        "from sklearn.feature_extraction.text import CountVectorizer #untuk ekstraksi fitur (atau vektorisasi) \n",
        "from sklearn.metrics.pairwise import cosine_similarity\n",
        "import numpy as np #library Python dasar untuk perhitungan matematis dan ilmiah.\n",
        "import warnings #mendeteksi program jika terjadi error\n",
        "warnings.filterwarnings('ignore') #mendeteksi program jika terjadi error"
      ]
    },
    {
      "cell_type": "code",
      "execution_count": null,
      "metadata": {
        "colab": {
          "base_uri": "https://localhost:8080/"
        },
        "id": "Sa8BD2nwCRGj",
        "outputId": "d710b83c-3a89-4e7c-95dc-9c39e51ddf0a"
      },
      "outputs": [
        {
          "output_type": "execute_result",
          "data": {
            "text/plain": [
              "True"
            ]
          },
          "metadata": {},
          "execution_count": 6
        }
      ],
      "source": [
        "nltk.download('punkt', quiet=True)"
      ]
    },
    {
      "cell_type": "markdown",
      "metadata": {
        "id": "LTnOWF68CRGk"
      },
      "source": [
        "### Proses 1 (Membuat korpus dengan mendownload artikel dari sebuah link)\n",
        "\n"
      ]
    },
    {
      "cell_type": "code",
      "execution_count": null,
      "metadata": {
        "colab": {
          "base_uri": "https://localhost:8080/"
        },
        "id": "otZH3R0eCRGk",
        "outputId": "5bc318f2-5317-4008-eb65-984778c60987"
      },
      "outputs": [
        {
          "output_type": "stream",
          "name": "stdout",
          "text": [
            "Bisnis.com, JAKARTA - Bagi Anda pecinta film dan serial, sepanjang Maret 2022 ini akan dimanjakan dengan deretan film dan serial terbaik versi Netflix,\n",
            "\n",
            "Netflix kembali menghadirkan puluhan film dan serial terbaru yang tayang pada Maret 2022. Tayangan dari berbagai negara dan beragam genre siap menghibur para pengguna Netflix Indonesia bulan ini.\n",
            "\n",
            "Sejumlah film Indonesia yang sebelumnya sudah dirilis di bioskop dapat disaksikan di Netflix, seperti Cinta Pertama, Kedua & Ketiga, Yowis Ben 3, dan masih banyak lagi yang lain. Tidak ketinggalan drama Korea, anime, hingga film dokumenter tentang penemu mata uang kripto Kanada yang meninggal mendadak juga akan hadir bulan ini.\n",
            "\n",
            "Baca Juga : Cara Daftar dan Langganan Netflix, Mulai Rp54 per Bulan\n",
            "\n",
            "Berikut rekomendasi film dan serial terbaru yang tayang di Netflix mulai Maret 2022:\n",
            "\n",
            "1. Bridgerton: Season 2\n",
            "\n",
            "Kewajiban, hasrat, dan skandal beradu ketika Viscount Anthony Bridgerton (Jonathan Bailey) memutuskan untuk menikah. Namun, ia justru jatuh cinta kepada kakak perempuan calon istrinya yang keras kepala. Bridgerton: Season 2 akan tayang pada Jumat, 25 Maret 2022.\n",
            "\n",
            "2. The Adam Project\n",
            "\n",
            "Setelah mendarat darurat di tahun 2022, pilot tempur penjelajah waktu Adam Reed bekerja sama dengan dirinya yang berusia 12 tahun untuk menyelamatkan masa depan. Petualangan terbaru Ryan Reynolds ini akan tayang pada Jumat, 11 Maret 2022.\n",
            "\n",
            "Baca Juga : Sinopsis film 12 Strong, Aksi Chris Hemsworth Berantas Jaringan Teroris\n",
            "\n",
            "3. Kulari ke Pantai\n",
            "\n",
            "Ketika dua sepupu dengan kepribadian berbeda melakukan road trip, mereka pun menemukan berbagai kejutan seru serta hambatan tak terduga di sepanjang jalan. Film yang dibintangi Marsha Timothy, Maisha Kanna, dan Lil’li Lathisa ini tayang pada Kamis, 10 Maret 2022.\n",
            "\n",
            "4. Bebas\n",
            "\n",
            "Setelah mengetahui dirinya hanya bisa hidup dua bulan lagi, seorang perempuan memutuskan bertemu dengan teman-teman SMA-nya untuk yang terakhir kali. Film yang dibintangi Marsha Timothy, Maizura, dan Susan Bachtiar ini juga akan tayang pada Kamis, 10 Maret 2022.\n",
            "\n",
            "5. Cinta Pertama, Kedua & Ketiga\n",
            "\n",
            "Sembari merawat orang tua mereka, Asia dan Raja bertemu di rumah sakit dan jatuh cinta, namun sebuah rahasia yang pahit mengubah segalanya. Dibintangi Angga Yunanda dan Putri Marino, Cinta Pertama, Kedua & Ketiga akan tayang pada Kamis, 17 Maret 2022.\n",
            "\n",
            "6. Yowis Ben 3\n",
            "\n",
            "Di saat band mereka mencapai puncak popularitas, masa depan para anggotanya menjadi tidak pasti karena harus menghadapi berbagai isu pribadi. Menampilkan Joshua Suherman, Bayu Skak dan Brandon Salim, film ini tayang pada Jumat, 25 Februari 2022.\n",
            "\n",
            "7. The Pirates: The Last Royal Treasure\n",
            "\n",
            "Sekelompok bajak laut dan bandit Joseon yang pemberani menghadapi lautan penuh badai, petunjuk membingungkan, dan saingan berbahaya demi mencari harta karun yang hilang di tengah samudra. Film yang dibintangi Kang Ha Neul, Han Hyo Joo, Lee Kwang Soo ini akan tayang pada Rabu, 2 Maret 2022.\n",
            "\n",
            "8. Bad and Crazy: Season 1\n",
            "\n",
            "Seorang pria jahat namun kompeten menemukan kembali rasa kemanusiaannya setelah bertemu dengan pria baik namun gila. Dibintangi Lee Dong Wook, Han Ji Eun, Wi Ha Joon, serial ini akan tayang pada Senin, 28 Maret 2022.\n",
            "\n",
            "9. Tomorrow\n",
            "\n",
            "Tak sengaja menjadi setengah manusia dan setengah arwah, seorang pria muda bergabung dengan sekelompok malaikat pencabut nyawa untuk menjalani misi menyelamatkan nyawa. Serial yang menghadirkan Kim Hee Seon, Rowoon, Lee Soo Hyuk ini akan tayang pada Sabtu, 26 Maret 2022.\n",
            "\n",
            "10. Kotaro Lives Alone\n",
            "\n",
            "Seorang anak kecil yang kesepian pindah ke sebuah apartemen sendirian dan berteman dengan tetangganya, seorang seniman manga yang bangkrut. Serial ini tayang pada Kamis, 10 Maret 2022.\n",
            "\n",
            "11. Inuyasha: The Final Act: Season 1\n",
            "\n",
            "Inuyasha, Kagome, Miroku, Sango, dan Shippo akhirnya mencapai titik balik dalam perjalanan mereka mengakhiri kekacauan dan kejahatan yang disebabkan oleh sang iblis jahat Naraku. Inuyasha: The Final Act: Season 1 akan tayang pada Jumat, 25 Maret 2022.\n",
            "\n",
            "12. Thermae Romae Novae\n",
            "\n",
            "Seorang arsitek tempat pemandian dari Romawi Kuno tiba-tiba muncul di Jepang masa kini, di mana ia terinspirasi oleh berbagai inovasi kamar mandi. Serial ini akan tayang pada Senin, 28 Maret 2022.\n",
            "\n",
            "13. The Guardians of Justice\n",
            "\n",
            "Ketika pemimpin mereka yang terlihat pemberani tiba-tiba menghancurkan diri, sebuah tim pahlawan super yang bermasalah harus menghadapi kejahatan di dunia dan pada diri mereka sendiri. Dibintangi Dallas Page, Sharni Vinson dan Derek Mears, serial ini akan tayang pada Selasa, 1 Maret 2022.\n",
            "\n",
            "14. Knives Out\n",
            "\n",
            "Seorang detektif mengungkap jaringan kusut penuh rahasia dan kebohongan yang mengelilingi kematian seorang novelis kriminal dan keluarganya yang eksentrik dan meresahkan. Film yang menghadirkan Daniel Craig, Chris Evans dan Ana de Armas ini juga akan tayang pada Selasa, 1 Maret 2022.\n",
            "\n",
            "15. Birds of Prey (And the Fantabulous Emancipation of One Harley Quinn)\n",
            "\n",
            "Harley Quinn menjadi target setelah putus dari Joker, hingga akhirnya ia bergabung dengan tim pahlawan super perempuan untuk memerangi seorang gembong kejahatan. Aksi Margot Robbie, Rosie Perez dan Mary Elizabeth Winstead dapat disaksikan mulai Selasa, 1 Maret 2022.\n",
            "\n",
            "16. Against The Ice\n",
            "\n",
            "Diangkat dari kisah nyata ekspedisi kutub utara Denmark pada tahun 1909, film ini mengikuti dua pria yang harus bertahan hidup ketika menjelajahi Greenland yang sangat luas. Film yang dibintangi Nikolaj Coster-Waldau, Joe Cole dan Heida Reed ini akan tayang Rabu, 2 Maret 2022.\n",
            "\n",
            "17. Windfall\n",
            "\n",
            "Seorang pria membobol rumah liburan milik miliarder teknologi, namun situasi menjadi kacau ketika sang pengusaha angkuh dan istrinya mendadak datang untuk berlibur. Menghadirkan Jason Segel, Lily Collins dan Jesse Plemons, film ini mulai tayang pada Jumat, 18 Maret 2022.\n",
            "\n",
            "18. Saw\n",
            "\n",
            "Bersediakah Anda untuk membunuh supaya tetap hidup? Hal ini yang dipertanyakan oleh dua pria saat mereka diculik oleh seorang pembunuh berantai dan menghadapi situasi mematikan. Film ini dibintangi Leigh Whannell, Cary Elwes dan Danny Glover. Koleksi lengkap Saw dengan Saw II, Saw III, Saw IV, dan Saw V juga akan tayang di Netflix pada 23 Maret.\n",
            "\n",
            "19. Trust No One: The Hunt for the Crypto King\n",
            "\n",
            "Ketika penemu mata uang kripto Kanada meninggal secara tiba-tiba di India, para pelanggannya mencurigai ada sesuatu yang tersembunyi di balik kematiannya. Film dokumenter ini akan tayang pada Rabu, 30 Maret 2022.\n",
            "\n",
            "Simak Video Pilihan di Bawah Ini :\n"
          ]
        }
      ],
      "source": [
        "article = Article('https://lifestyle.bisnis.com/read/20220302/254/1506079/19-film-dan-serial-wajib-nonton-di-netflix-sepanjang-maret-2022')\n",
        "article.download() #download artikel\n",
        "article.parse() #menggambarkan syntactic structure sebuah kalimat yang tersusun dari struktur grammar formal.\n",
        "article.nlp()\n",
        "corpus = article.text\n",
        "print(corpus)"
      ]
    },
    {
      "cell_type": "markdown",
      "metadata": {
        "id": "bGmRAQ9WCRGl"
      },
      "source": [
        "### Proses 2 (Tokenization)"
      ]
    },
    {
      "cell_type": "code",
      "execution_count": null,
      "metadata": {
        "colab": {
          "base_uri": "https://localhost:8080/"
        },
        "id": "vh1UaZ3kCRGl",
        "outputId": "0bdd67f4-6ba9-4c36-877a-eb30d9e5be9f"
      },
      "outputs": [
        {
          "output_type": "stream",
          "name": "stdout",
          "text": [
            "['Bisnis.com, JAKARTA - Bagi Anda pecinta film dan serial, sepanjang Maret 2022 ini akan dimanjakan dengan deretan film dan serial terbaik versi Netflix,\\n\\nNetflix kembali menghadirkan puluhan film dan serial terbaru yang tayang pada Maret 2022.', 'Tayangan dari berbagai negara dan beragam genre siap menghibur para pengguna Netflix Indonesia bulan ini.', 'Sejumlah film Indonesia yang sebelumnya sudah dirilis di bioskop dapat disaksikan di Netflix, seperti Cinta Pertama, Kedua & Ketiga, Yowis Ben 3, dan masih banyak lagi yang lain.', 'Tidak ketinggalan drama Korea, anime, hingga film dokumenter tentang penemu mata uang kripto Kanada yang meninggal mendadak juga akan hadir bulan ini.', 'Baca Juga : Cara Daftar dan Langganan Netflix, Mulai Rp54 per Bulan\\n\\nBerikut rekomendasi film dan serial terbaru yang tayang di Netflix mulai Maret 2022:\\n\\n1.', 'Bridgerton: Season 2\\n\\nKewajiban, hasrat, dan skandal beradu ketika Viscount Anthony Bridgerton (Jonathan Bailey) memutuskan untuk menikah.', 'Namun, ia justru jatuh cinta kepada kakak perempuan calon istrinya yang keras kepala.', 'Bridgerton: Season 2 akan tayang pada Jumat, 25 Maret 2022.', '2.', 'The Adam Project\\n\\nSetelah mendarat darurat di tahun 2022, pilot tempur penjelajah waktu Adam Reed bekerja sama dengan dirinya yang berusia 12 tahun untuk menyelamatkan masa depan.', 'Petualangan terbaru Ryan Reynolds ini akan tayang pada Jumat, 11 Maret 2022.', 'Baca Juga : Sinopsis film 12 Strong, Aksi Chris Hemsworth Berantas Jaringan Teroris\\n\\n3.', 'Kulari ke Pantai\\n\\nKetika dua sepupu dengan kepribadian berbeda melakukan road trip, mereka pun menemukan berbagai kejutan seru serta hambatan tak terduga di sepanjang jalan.', 'Film yang dibintangi Marsha Timothy, Maisha Kanna, dan Lil’li Lathisa ini tayang pada Kamis, 10 Maret 2022.', '4.', 'Bebas\\n\\nSetelah mengetahui dirinya hanya bisa hidup dua bulan lagi, seorang perempuan memutuskan bertemu dengan teman-teman SMA-nya untuk yang terakhir kali.', 'Film yang dibintangi Marsha Timothy, Maizura, dan Susan Bachtiar ini juga akan tayang pada Kamis, 10 Maret 2022.', '5.', 'Cinta Pertama, Kedua & Ketiga\\n\\nSembari merawat orang tua mereka, Asia dan Raja bertemu di rumah sakit dan jatuh cinta, namun sebuah rahasia yang pahit mengubah segalanya.', 'Dibintangi Angga Yunanda dan Putri Marino, Cinta Pertama, Kedua & Ketiga akan tayang pada Kamis, 17 Maret 2022.', '6.', 'Yowis Ben 3\\n\\nDi saat band mereka mencapai puncak popularitas, masa depan para anggotanya menjadi tidak pasti karena harus menghadapi berbagai isu pribadi.', 'Menampilkan Joshua Suherman, Bayu Skak dan Brandon Salim, film ini tayang pada Jumat, 25 Februari 2022.', '7.', 'The Pirates: The Last Royal Treasure\\n\\nSekelompok bajak laut dan bandit Joseon yang pemberani menghadapi lautan penuh badai, petunjuk membingungkan, dan saingan berbahaya demi mencari harta karun yang hilang di tengah samudra.', 'Film yang dibintangi Kang Ha Neul, Han Hyo Joo, Lee Kwang Soo ini akan tayang pada Rabu, 2 Maret 2022.', '8.', 'Bad and Crazy: Season 1\\n\\nSeorang pria jahat namun kompeten menemukan kembali rasa kemanusiaannya setelah bertemu dengan pria baik namun gila.', 'Dibintangi Lee Dong Wook, Han Ji Eun, Wi Ha Joon, serial ini akan tayang pada Senin, 28 Maret 2022.', '9.', 'Tomorrow\\n\\nTak sengaja menjadi setengah manusia dan setengah arwah, seorang pria muda bergabung dengan sekelompok malaikat pencabut nyawa untuk menjalani misi menyelamatkan nyawa.', 'Serial yang menghadirkan Kim Hee Seon, Rowoon, Lee Soo Hyuk ini akan tayang pada Sabtu, 26 Maret 2022.', '10.', 'Kotaro Lives Alone\\n\\nSeorang anak kecil yang kesepian pindah ke sebuah apartemen sendirian dan berteman dengan tetangganya, seorang seniman manga yang bangkrut.', 'Serial ini tayang pada Kamis, 10 Maret 2022.', '11.', 'Inuyasha: The Final Act: Season 1\\n\\nInuyasha, Kagome, Miroku, Sango, dan Shippo akhirnya mencapai titik balik dalam perjalanan mereka mengakhiri kekacauan dan kejahatan yang disebabkan oleh sang iblis jahat Naraku.', 'Inuyasha: The Final Act: Season 1 akan tayang pada Jumat, 25 Maret 2022.', '12.', 'Thermae Romae Novae\\n\\nSeorang arsitek tempat pemandian dari Romawi Kuno tiba-tiba muncul di Jepang masa kini, di mana ia terinspirasi oleh berbagai inovasi kamar mandi.', 'Serial ini akan tayang pada Senin, 28 Maret 2022.', '13.', 'The Guardians of Justice\\n\\nKetika pemimpin mereka yang terlihat pemberani tiba-tiba menghancurkan diri, sebuah tim pahlawan super yang bermasalah harus menghadapi kejahatan di dunia dan pada diri mereka sendiri.', 'Dibintangi Dallas Page, Sharni Vinson dan Derek Mears, serial ini akan tayang pada Selasa, 1 Maret 2022.', '14.', 'Knives Out\\n\\nSeorang detektif mengungkap jaringan kusut penuh rahasia dan kebohongan yang mengelilingi kematian seorang novelis kriminal dan keluarganya yang eksentrik dan meresahkan.', 'Film yang menghadirkan Daniel Craig, Chris Evans dan Ana de Armas ini juga akan tayang pada Selasa, 1 Maret 2022.', '15.', 'Birds of Prey (And the Fantabulous Emancipation of One Harley Quinn)\\n\\nHarley Quinn menjadi target setelah putus dari Joker, hingga akhirnya ia bergabung dengan tim pahlawan super perempuan untuk memerangi seorang gembong kejahatan.', 'Aksi Margot Robbie, Rosie Perez dan Mary Elizabeth Winstead dapat disaksikan mulai Selasa, 1 Maret 2022.', '16.', 'Against The Ice\\n\\nDiangkat dari kisah nyata ekspedisi kutub utara Denmark pada tahun 1909, film ini mengikuti dua pria yang harus bertahan hidup ketika menjelajahi Greenland yang sangat luas.', 'Film yang dibintangi Nikolaj Coster-Waldau, Joe Cole dan Heida Reed ini akan tayang Rabu, 2 Maret 2022.', '17.', 'Windfall\\n\\nSeorang pria membobol rumah liburan milik miliarder teknologi, namun situasi menjadi kacau ketika sang pengusaha angkuh dan istrinya mendadak datang untuk berlibur.', 'Menghadirkan Jason Segel, Lily Collins dan Jesse Plemons, film ini mulai tayang pada Jumat, 18 Maret 2022.', '18.', 'Saw\\n\\nBersediakah Anda untuk membunuh supaya tetap hidup?', 'Hal ini yang dipertanyakan oleh dua pria saat mereka diculik oleh seorang pembunuh berantai dan menghadapi situasi mematikan.', 'Film ini dibintangi Leigh Whannell, Cary Elwes dan Danny Glover.', 'Koleksi lengkap Saw dengan Saw II, Saw III, Saw IV, dan Saw V juga akan tayang di Netflix pada 23 Maret.', '19.', 'Trust No One: The Hunt for the Crypto King\\n\\nKetika penemu mata uang kripto Kanada meninggal secara tiba-tiba di India, para pelanggannya mencurigai ada sesuatu yang tersembunyi di balik kematiannya.', 'Film dokumenter ini akan tayang pada Rabu, 30 Maret 2022.', 'Simak Video Pilihan di Bawah Ini :']\n"
          ]
        }
      ],
      "source": [
        "# Tokenization\n",
        "text = corpus\n",
        "sentence_list = nltk.sent_tokenize(text) #A list of sentences\n",
        "\n",
        "# Print the list of sentences\n",
        "print(sentence_list)\n"
      ]
    },
    {
      "cell_type": "markdown",
      "metadata": {
        "id": "A0kZDPHxCRGm"
      },
      "source": [
        "### Proses 3 (Bot Response)"
      ]
    },
    {
      "cell_type": "code",
      "execution_count": null,
      "metadata": {
        "id": "qII0gu1dCRGm"
      },
      "outputs": [],
      "source": [
        "#a function to return a random greeting response to a users greeting\n",
        "def greeting_response(text):\n",
        "    text = text.lower()\n",
        "\n",
        "    #Users greeting\n",
        "    user_greetings = ['hi','hey','hello','selamat datang','punten']\n",
        "    \n",
        "    #Bots greeting respone\n",
        "    bot_greetings = ['hi','hello','mangga']\n",
        "    \n",
        "    for word in text.split():    \n",
        "        if word in user_greetings:\n",
        "            return random.choice(bot_greetings)\n",
        "        \n",
        "    #Random response to greeting\n",
        "    #def gratitude_response(text):\n",
        "        #text=text.lower()\n",
        "   \n"
      ]
    },
    {
      "cell_type": "markdown",
      "metadata": {
        "id": "oTHbuHoO_SXL"
      },
      "source": [
        "### Sorting List"
      ]
    },
    {
      "cell_type": "code",
      "execution_count": null,
      "metadata": {
        "id": "ZQnYG5nQCRGn"
      },
      "outputs": [],
      "source": [
        " def index_sort(list_var):\n",
        "    length = len(list_var)\n",
        "    list_index = list(range(0, length))\n",
        "    \n",
        "    x = list_var        \n",
        "    for i in range(length):\n",
        "        for j in range(length):\n",
        "            if x[list_index[i]] > x[list_index[j]]:\n",
        "                #swap\n",
        "                temp = list_index[i]\n",
        "                list_index[i] = list_index[j]\n",
        "                list_index[j] = temp\n",
        "                \n",
        "    return list_index"
      ]
    },
    {
      "cell_type": "markdown",
      "metadata": {
        "id": "tIuiijdc_YZ2"
      },
      "source": [
        "# Chatbot Respon Menggunakan Cosine Similarity\n",
        "\n",
        "Pada respon bot menggunakan teknis Cosine Similarity untuk menghitung kata yang cocok dengan yang di input user terhadap respon dari Bot"
      ]
    },
    {
      "cell_type": "code",
      "execution_count": null,
      "metadata": {
        "id": "VrBJ58bvCRGn"
      },
      "outputs": [],
      "source": [
        "# Creat Bots Response\n",
        "def bot_response(user_input):\n",
        "    user_input=user_input.lower() #mengambil input user diubah menjadi huruf kecil semua\n",
        "    sentence_list.append(user_input) #proses menambahkan input user kedalam corpus kalimat artikel\n",
        "    bot_response= ''\n",
        "    cm=CountVectorizer().fit_transform(sentence_list) #mengubah teks ke bentuk vector\n",
        "    similarity_scores=cosine_similarity(cm[-1],cm) #Membandingkan kedekatan kalimat antara input dan sentence list\n",
        "    similarity_scores_list=similarity_scores.flatten() #mengubah vector cosim menjadi total nilai similarity \n",
        "    index=index_sort(similarity_scores_list) #pakai fungsi index sort untuk mengurutkan index terbesar ke terkecil\n",
        "    index=index[1:] #mengambil data dengan nilai cosim terbesar\n",
        "    response_flag=0\n",
        "    \n",
        "    j=0\n",
        "    for i in range(len(index)): #ngecheck jika kalimat di dalam index lebih dari 0 maka memiliki kesamaan dengan corpus sentence list, dan menentukan bot responnya\n",
        "        if similarity_scores_list[index[i]]>0.0:\n",
        "            bot_response=bot_response+' '+sentence_list[index[i]]\n",
        "            response_flag=1\n",
        "            j=j+1\n",
        "        if j>2:\n",
        "            break\n",
        "\n",
        "        if response_flag==0:\n",
        "            bot_response=bot_response+\" \"+\"Saya minta maaf, karena kurang memahami yang anda maksud\"\n",
        "\n",
        "        sentence_list.remove(user_input) \n",
        "\n",
        "        return bot_response"
      ]
    },
    {
      "cell_type": "markdown",
      "metadata": {
        "id": "8-C33RGuCRGo"
      },
      "source": [
        "### Proses 4 (End Process, Making chat box)"
      ]
    },
    {
      "cell_type": "code",
      "execution_count": null,
      "metadata": {
        "colab": {
          "base_uri": "https://localhost:8080/"
        },
        "id": "7GTB7h9TCRGo",
        "outputId": "9a910329-515c-4131-b5ac-8f985935634c"
      },
      "outputs": [
        {
          "output_type": "stream",
          "name": "stdout",
          "text": [
            "Doc Bot: I am DOc bot and I will answer your queries about ten tourist attractions in NTB, if you want to exit type, bye  ?\n",
            "Apa nama film yang tayang pada tanggal 25 Maret 2022?\n",
            "Doc Bot:  Bridgerton: Season 2 akan tayang pada Jumat, 25 Maret 2022.\n",
            "Film Thermae Romae Novae membahas tentang apa?\n",
            "Doc Bot:  Thermae Romae Novae\n",
            "\n",
            "Seorang arsitek tempat pemandian dari Romawi Kuno tiba-tiba muncul di Jepang masa kini, di mana ia terinspirasi oleh berbagai inovasi kamar mandi.\n",
            "Kulari ke Pantai adalah film?\n",
            "Doc Bot:  Kulari ke Pantai\n",
            "\n",
            "Ketika dua sepupu dengan kepribadian berbeda melakukan road trip, mereka pun menemukan berbagai kejutan seru serta hambatan tak terduga di sepanjang jalan.\n",
            "Apa judul film yang membahas sekelompok bajak laut?\n",
            "Doc Bot:  The Pirates: The Last Royal Treasure\n",
            "\n",
            "Sekelompok bajak laut dan bandit Joseon yang pemberani menghadapi lautan penuh badai, petunjuk membingungkan, dan saingan berbahaya demi mencari harta karun yang hilang di tengah samudra.\n",
            "Film Bebas membahas tentang apa?\n",
            "Doc Bot:  Tidak ketinggalan drama Korea, anime, hingga film dokumenter tentang penemu mata uang kripto Kanada yang meninggal mendadak juga akan hadir bulan ini.\n",
            "Terima kasih\n",
            "Doc Bot: Terima Kasih, sampai jumpa lagi\n"
          ]
        }
      ],
      "source": [
        "#Start Chat\n",
        "print(\"Doc Bot: I am DOc bot and I will answer your queries about Recommended Movies of 2022 on Netflix, if you want to exit type, bye  ?\")\n",
        "\n",
        "exit_list=['exit','bye','sampai jumpa','terima kasih','quit']\n",
        "\n",
        "while(True):\n",
        "    user_input=input()\n",
        "    if user_input.lower() in exit_list:\n",
        "        print('Doc Bot: Terima Kasih, sampai jumpa lagi')\n",
        "        break\n",
        "    else:\n",
        "        if greeting_response(user_input)!= None:\n",
        "            print('Doc Bot: '+ greeting_response(user_input))\n",
        "        else:\n",
        "            print('Doc Bot: '+ bot_response(user_input))"
      ]
    }
  ]
}
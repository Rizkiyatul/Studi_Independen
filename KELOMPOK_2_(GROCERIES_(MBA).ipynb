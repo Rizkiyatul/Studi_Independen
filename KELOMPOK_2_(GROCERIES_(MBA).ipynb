{
  "nbformat": 4,
  "nbformat_minor": 0,
  "metadata": {
    "colab": {
      "name": "KELOMPOK 2 (GROCERIES (MBA)",
      "provenance": [],
      "collapsed_sections": [
        "fwO2ox36dZHF",
        "XgbCGVWWfF2n",
        "B8mKLfOrgc2j",
        "IKR4peUfgcmo"
      ],
      "include_colab_link": true
    },
    "kernelspec": {
      "name": "python3",
      "display_name": "Python 3"
    },
    "language_info": {
      "name": "python"
    }
  },
  "cells": [
    {
      "cell_type": "markdown",
      "metadata": {
        "id": "view-in-github",
        "colab_type": "text"
      },
      "source": [
        "<a href=\"https://colab.research.google.com/github/Rizkiyatul/Studi_Independen/blob/main/KELOMPOK_2_(GROCERIES_(MBA).ipynb\" target=\"_parent\"><img src=\"https://colab.research.google.com/assets/colab-badge.svg\" alt=\"Open In Colab\"/></a>"
      ]
    },
    {
      "cell_type": "markdown",
      "source": [
        "# **Market Basket Analysis**\n",
        "Market basket analysis adalah suatu metodologi untuk melakukan analisis buying habit konsumen dengan menemukan asosiasi antar beberapa item yang berbeda, yang diletakkan konsumen dalam shopping basket (keranjang belanja) yang dibeli pada suatu transaksi tertentu. Tujuan dari market basket analysis adalah untuk mengetahui produk-produk mana yang mungkin akan dibeli secara bersamaan"
      ],
      "metadata": {
        "id": "yFkVo0GvdF5T"
      }
    },
    {
      "cell_type": "markdown",
      "source": [
        "# **Groceries Market Basket Analysis**"
      ],
      "metadata": {
        "id": "RO6yz03Im1i2"
      }
    },
    {
      "cell_type": "markdown",
      "source": [
        "## **1. Import Library**\n",
        "Pertama-tama mengimpor library yang akan kita gunakan untuk analisis eksplorasi data dan visualisasi data.\n"
      ],
      "metadata": {
        "id": "LWqZv3hwm_-7"
      }
    },
    {
      "cell_type": "code",
      "execution_count": null,
      "metadata": {
        "id": "UuwanqKPYdPs"
      },
      "outputs": [],
      "source": [
        "import pandas as pd\n",
        "import numpy as np\n",
        "import seaborn as sns\n",
        "import matplotlib.pyplot as plt\n",
        "%matplotlib inline"
      ]
    },
    {
      "cell_type": "markdown",
      "source": [
        "## **2. Import Dataset**\n",
        "Kita akan menggunakan data Groceries_dataset.csv yang bisa temen-temen download [disini](https://drive.google.com/file/d/1UVn3De2OClYbTkTObZ7TpiskipdNR_c4/view?usp=sharing)\n",
        "\n",
        "Sekarang import data ke DataFrame dengan library pandas."
      ],
      "metadata": {
        "id": "qlcuzs3XZ_K4"
      }
    },
    {
      "cell_type": "code",
      "source": [
        "df = pd.read_csv('/content/Groceries_dataset.csv')\n",
        "df"
      ],
      "metadata": {
        "colab": {
          "base_uri": "https://localhost:8080/",
          "height": 423
        },
        "id": "CndlRKOFYrkU",
        "outputId": "c6c858d8-6c5d-4b8a-b7cd-27297a5c620a"
      },
      "execution_count": null,
      "outputs": [
        {
          "output_type": "execute_result",
          "data": {
            "text/plain": [
              "       Member_number        Date  Transaction           itemDescription\n",
              "0               1808  21/07/2015            1            tropical fruit\n",
              "1               2552  05/01/2015            2                whole milk\n",
              "2               2300  19/09/2015            2                 pip fruit\n",
              "3               1187  12/12/2015            3          other vegetables\n",
              "4               3037  01/02/2015            3                whole milk\n",
              "...              ...         ...          ...                       ...\n",
              "19995           1721  15/10/2015         9111                whole milk\n",
              "19996           2877  10/04/2015         9112                   waffles\n",
              "19997           3848  11/10/2015         9112         frozen vegetables\n",
              "19998           4344  01/03/2015         9113  long life bakery product\n",
              "19999           3475  10/06/2015         9113                whole milk\n",
              "\n",
              "[20000 rows x 4 columns]"
            ],
            "text/html": [
              "\n",
              "  <div id=\"df-49e90689-0ed1-4111-b009-2e4de62d47c0\">\n",
              "    <div class=\"colab-df-container\">\n",
              "      <div>\n",
              "<style scoped>\n",
              "    .dataframe tbody tr th:only-of-type {\n",
              "        vertical-align: middle;\n",
              "    }\n",
              "\n",
              "    .dataframe tbody tr th {\n",
              "        vertical-align: top;\n",
              "    }\n",
              "\n",
              "    .dataframe thead th {\n",
              "        text-align: right;\n",
              "    }\n",
              "</style>\n",
              "<table border=\"1\" class=\"dataframe\">\n",
              "  <thead>\n",
              "    <tr style=\"text-align: right;\">\n",
              "      <th></th>\n",
              "      <th>Member_number</th>\n",
              "      <th>Date</th>\n",
              "      <th>Transaction</th>\n",
              "      <th>itemDescription</th>\n",
              "    </tr>\n",
              "  </thead>\n",
              "  <tbody>\n",
              "    <tr>\n",
              "      <th>0</th>\n",
              "      <td>1808</td>\n",
              "      <td>21/07/2015</td>\n",
              "      <td>1</td>\n",
              "      <td>tropical fruit</td>\n",
              "    </tr>\n",
              "    <tr>\n",
              "      <th>1</th>\n",
              "      <td>2552</td>\n",
              "      <td>05/01/2015</td>\n",
              "      <td>2</td>\n",
              "      <td>whole milk</td>\n",
              "    </tr>\n",
              "    <tr>\n",
              "      <th>2</th>\n",
              "      <td>2300</td>\n",
              "      <td>19/09/2015</td>\n",
              "      <td>2</td>\n",
              "      <td>pip fruit</td>\n",
              "    </tr>\n",
              "    <tr>\n",
              "      <th>3</th>\n",
              "      <td>1187</td>\n",
              "      <td>12/12/2015</td>\n",
              "      <td>3</td>\n",
              "      <td>other vegetables</td>\n",
              "    </tr>\n",
              "    <tr>\n",
              "      <th>4</th>\n",
              "      <td>3037</td>\n",
              "      <td>01/02/2015</td>\n",
              "      <td>3</td>\n",
              "      <td>whole milk</td>\n",
              "    </tr>\n",
              "    <tr>\n",
              "      <th>...</th>\n",
              "      <td>...</td>\n",
              "      <td>...</td>\n",
              "      <td>...</td>\n",
              "      <td>...</td>\n",
              "    </tr>\n",
              "    <tr>\n",
              "      <th>19995</th>\n",
              "      <td>1721</td>\n",
              "      <td>15/10/2015</td>\n",
              "      <td>9111</td>\n",
              "      <td>whole milk</td>\n",
              "    </tr>\n",
              "    <tr>\n",
              "      <th>19996</th>\n",
              "      <td>2877</td>\n",
              "      <td>10/04/2015</td>\n",
              "      <td>9112</td>\n",
              "      <td>waffles</td>\n",
              "    </tr>\n",
              "    <tr>\n",
              "      <th>19997</th>\n",
              "      <td>3848</td>\n",
              "      <td>11/10/2015</td>\n",
              "      <td>9112</td>\n",
              "      <td>frozen vegetables</td>\n",
              "    </tr>\n",
              "    <tr>\n",
              "      <th>19998</th>\n",
              "      <td>4344</td>\n",
              "      <td>01/03/2015</td>\n",
              "      <td>9113</td>\n",
              "      <td>long life bakery product</td>\n",
              "    </tr>\n",
              "    <tr>\n",
              "      <th>19999</th>\n",
              "      <td>3475</td>\n",
              "      <td>10/06/2015</td>\n",
              "      <td>9113</td>\n",
              "      <td>whole milk</td>\n",
              "    </tr>\n",
              "  </tbody>\n",
              "</table>\n",
              "<p>20000 rows × 4 columns</p>\n",
              "</div>\n",
              "      <button class=\"colab-df-convert\" onclick=\"convertToInteractive('df-49e90689-0ed1-4111-b009-2e4de62d47c0')\"\n",
              "              title=\"Convert this dataframe to an interactive table.\"\n",
              "              style=\"display:none;\">\n",
              "        \n",
              "  <svg xmlns=\"http://www.w3.org/2000/svg\" height=\"24px\"viewBox=\"0 0 24 24\"\n",
              "       width=\"24px\">\n",
              "    <path d=\"M0 0h24v24H0V0z\" fill=\"none\"/>\n",
              "    <path d=\"M18.56 5.44l.94 2.06.94-2.06 2.06-.94-2.06-.94-.94-2.06-.94 2.06-2.06.94zm-11 1L8.5 8.5l.94-2.06 2.06-.94-2.06-.94L8.5 2.5l-.94 2.06-2.06.94zm10 10l.94 2.06.94-2.06 2.06-.94-2.06-.94-.94-2.06-.94 2.06-2.06.94z\"/><path d=\"M17.41 7.96l-1.37-1.37c-.4-.4-.92-.59-1.43-.59-.52 0-1.04.2-1.43.59L10.3 9.45l-7.72 7.72c-.78.78-.78 2.05 0 2.83L4 21.41c.39.39.9.59 1.41.59.51 0 1.02-.2 1.41-.59l7.78-7.78 2.81-2.81c.8-.78.8-2.07 0-2.86zM5.41 20L4 18.59l7.72-7.72 1.47 1.35L5.41 20z\"/>\n",
              "  </svg>\n",
              "      </button>\n",
              "      \n",
              "  <style>\n",
              "    .colab-df-container {\n",
              "      display:flex;\n",
              "      flex-wrap:wrap;\n",
              "      gap: 12px;\n",
              "    }\n",
              "\n",
              "    .colab-df-convert {\n",
              "      background-color: #E8F0FE;\n",
              "      border: none;\n",
              "      border-radius: 50%;\n",
              "      cursor: pointer;\n",
              "      display: none;\n",
              "      fill: #1967D2;\n",
              "      height: 32px;\n",
              "      padding: 0 0 0 0;\n",
              "      width: 32px;\n",
              "    }\n",
              "\n",
              "    .colab-df-convert:hover {\n",
              "      background-color: #E2EBFA;\n",
              "      box-shadow: 0px 1px 2px rgba(60, 64, 67, 0.3), 0px 1px 3px 1px rgba(60, 64, 67, 0.15);\n",
              "      fill: #174EA6;\n",
              "    }\n",
              "\n",
              "    [theme=dark] .colab-df-convert {\n",
              "      background-color: #3B4455;\n",
              "      fill: #D2E3FC;\n",
              "    }\n",
              "\n",
              "    [theme=dark] .colab-df-convert:hover {\n",
              "      background-color: #434B5C;\n",
              "      box-shadow: 0px 1px 3px 1px rgba(0, 0, 0, 0.15);\n",
              "      filter: drop-shadow(0px 1px 2px rgba(0, 0, 0, 0.3));\n",
              "      fill: #FFFFFF;\n",
              "    }\n",
              "  </style>\n",
              "\n",
              "      <script>\n",
              "        const buttonEl =\n",
              "          document.querySelector('#df-49e90689-0ed1-4111-b009-2e4de62d47c0 button.colab-df-convert');\n",
              "        buttonEl.style.display =\n",
              "          google.colab.kernel.accessAllowed ? 'block' : 'none';\n",
              "\n",
              "        async function convertToInteractive(key) {\n",
              "          const element = document.querySelector('#df-49e90689-0ed1-4111-b009-2e4de62d47c0');\n",
              "          const dataTable =\n",
              "            await google.colab.kernel.invokeFunction('convertToInteractive',\n",
              "                                                     [key], {});\n",
              "          if (!dataTable) return;\n",
              "\n",
              "          const docLinkHtml = 'Like what you see? Visit the ' +\n",
              "            '<a target=\"_blank\" href=https://colab.research.google.com/notebooks/data_table.ipynb>data table notebook</a>'\n",
              "            + ' to learn more about interactive tables.';\n",
              "          element.innerHTML = '';\n",
              "          dataTable['output_type'] = 'display_data';\n",
              "          await google.colab.output.renderOutput(dataTable, element);\n",
              "          const docLink = document.createElement('div');\n",
              "          docLink.innerHTML = docLinkHtml;\n",
              "          element.appendChild(docLink);\n",
              "        }\n",
              "      </script>\n",
              "    </div>\n",
              "  </div>\n",
              "  "
            ]
          },
          "metadata": {},
          "execution_count": 94
        }
      ]
    },
    {
      "cell_type": "markdown",
      "source": [
        "Dari tabel diatas, menunjukkan jumlah data pada dataset terdapat 20000 baris dan 4 kolom"
      ],
      "metadata": {
        "id": "0A0xY-Pbrxl8"
      }
    },
    {
      "cell_type": "markdown",
      "source": [
        "## **3. Data Preparation**\n",
        "Pada tahapan ini kita akan memastikan tipe data yang digunakan sesuai, tidak ada nilai kosong "
      ],
      "metadata": {
        "id": "IOJ1fl8ipEJn"
      }
    },
    {
      "cell_type": "code",
      "source": [
        "# cek tipe data dari setiap kolom\n",
        "print('Dataset Information: \\n')\n",
        "print(df.info())"
      ],
      "metadata": {
        "id": "EnD2MM1oYrge",
        "outputId": "9e9ae900-b8df-4271-cbc8-ef8209187844",
        "colab": {
          "base_uri": "https://localhost:8080/"
        }
      },
      "execution_count": null,
      "outputs": [
        {
          "output_type": "stream",
          "name": "stdout",
          "text": [
            "Dataset Information: \n",
            "\n",
            "<class 'pandas.core.frame.DataFrame'>\n",
            "RangeIndex: 20000 entries, 0 to 19999\n",
            "Data columns (total 4 columns):\n",
            " #   Column           Non-Null Count  Dtype \n",
            "---  ------           --------------  ----- \n",
            " 0   Member_number    20000 non-null  int64 \n",
            " 1   Date             20000 non-null  object\n",
            " 2   Transaction      20000 non-null  int64 \n",
            " 3   itemDescription  20000 non-null  object\n",
            "dtypes: int64(2), object(2)\n",
            "memory usage: 625.1+ KB\n",
            "None\n"
          ]
        }
      ]
    },
    {
      "cell_type": "code",
      "source": [
        "# mencetak 10 data pertama\n",
        "print('First Ten Rows of the DataFrame: \\n')\n",
        "print(df.head(10))"
      ],
      "metadata": {
        "id": "ZUvFxXVYYrdn",
        "outputId": "b77b51f9-f1dc-4f07-fefd-93747ad321cd",
        "colab": {
          "base_uri": "https://localhost:8080/"
        }
      },
      "execution_count": null,
      "outputs": [
        {
          "output_type": "stream",
          "name": "stdout",
          "text": [
            "First Ten Rows of the DataFrame: \n",
            "\n",
            "   Member_number        Date  Transaction   itemDescription\n",
            "0           1808  21/07/2015            1    tropical fruit\n",
            "1           2552  05/01/2015            2        whole milk\n",
            "2           2300  19/09/2015            2         pip fruit\n",
            "3           1187  12/12/2015            3  other vegetables\n",
            "4           3037  01/02/2015            3        whole milk\n",
            "5           4941  14/02/2015            3        rolls/buns\n",
            "6           4501  08/05/2015            4  other vegetables\n",
            "7           3803  23/12/2015            5        pot plants\n",
            "8           2762  20/03/2015            5        whole milk\n",
            "9           4119  12/02/2015            5    tropical fruit\n"
          ]
        }
      ]
    },
    {
      "cell_type": "code",
      "source": [
        "#Mencetak data item yang unik (memiliki nilai item berbeda)\n",
        "print('Unique Items: ', df['itemDescription'].nunique())\n",
        "print( '\\n', df['itemDescription'].unique())"
      ],
      "metadata": {
        "id": "65doHSBGYran",
        "outputId": "6f0dc365-486a-4fd5-fcf0-c987c13510e1",
        "colab": {
          "base_uri": "https://localhost:8080/"
        }
      },
      "execution_count": null,
      "outputs": [
        {
          "output_type": "stream",
          "name": "stdout",
          "text": [
            "Unique Items:  163\n",
            "\n",
            " ['tropical fruit' 'whole milk' 'pip fruit' 'other vegetables' 'rolls/buns'\n",
            " 'pot plants' 'citrus fruit' 'beef' 'frankfurter' 'chicken' 'butter'\n",
            " 'fruit/vegetable juice' 'packaged fruit/vegetables' 'chocolate'\n",
            " 'specialty bar' 'butter milk' 'bottled water' 'yogurt' 'sausage'\n",
            " 'brown bread' 'hamburger meat' 'root vegetables' 'pork' 'pastry'\n",
            " 'canned beer' 'berries' 'coffee' 'misc. beverages' 'ham' 'turkey'\n",
            " 'curd cheese' 'red/blush wine' 'frozen potato products' 'flour' 'sugar'\n",
            " 'frozen meals' 'herbs' 'soda' 'detergent' 'grapes' 'processed cheese'\n",
            " 'fish' 'sparkling wine' 'newspapers' 'curd' 'pasta' 'popcorn'\n",
            " 'finished products' 'beverages' 'bottled beer' 'dessert' 'dog food'\n",
            " 'specialty chocolate' 'condensed milk' 'cleaner' 'white wine' 'meat'\n",
            " 'ice cream' 'hard cheese' 'cream cheese ' 'liquor' 'pickled vegetables'\n",
            " 'liquor (appetizer)' 'UHT-milk' 'candy' 'onions' 'hair spray'\n",
            " 'photo/film' 'domestic eggs' 'margarine' 'shopping bags' 'salt' 'oil'\n",
            " 'whipped/sour cream' 'frozen vegetables' 'sliced cheese' 'dish cleaner'\n",
            " 'baking powder' 'specialty cheese' 'salty snack' 'Instant food products'\n",
            " 'pet care' 'white bread' 'female sanitary products' 'cling film/bags'\n",
            " 'soap' 'frozen chicken' 'house keeping products' 'spread cheese'\n",
            " 'decalcifier' 'frozen dessert' 'vinegar' 'nuts/prunes' 'potato products'\n",
            " 'frozen fish' 'hygiene articles' 'artif. sweetener' 'light bulbs'\n",
            " 'canned vegetables' 'chewing gum' 'canned fish' 'cookware'\n",
            " 'semi-finished bread' 'cat food' 'bathroom cleaner' 'prosecco'\n",
            " 'liver loaf' 'zwieback' 'canned fruit' 'frozen fruits' 'brandy'\n",
            " 'baby cosmetics' 'spices' 'napkins' 'waffles' 'sauces' 'rum'\n",
            " 'chocolate marshmallow' 'long life bakery product' 'bags' 'sweet spreads'\n",
            " 'soups' 'mustard' 'specialty fat' 'instant coffee' 'snack products'\n",
            " 'organic sausage' 'soft cheese' 'mayonnaise' 'dental care'\n",
            " 'roll products ' 'kitchen towels' 'flower soil/fertilizer' 'cereals'\n",
            " 'meat spreads' 'dishes' 'male cosmetics' 'candles' 'whisky' 'tidbits'\n",
            " 'cooking chocolate' 'seasonal products' 'liqueur' 'abrasive cleaner'\n",
            " 'syrup' 'ketchup' 'cream' 'skin care' 'rubbing alcohol' 'nut snack'\n",
            " 'cocoa drinks' 'softener' 'organic products' 'cake bar' 'honey' 'jam'\n",
            " 'kitchen utensil' 'flower (seeds)' 'rice' 'tea' 'salad dressing'\n",
            " 'specialty vegetables' 'pudding powder']\n"
          ]
        }
      ]
    },
    {
      "cell_type": "code",
      "source": [
        "# Cek missing value dan zeros\n",
        "print(df.isnull().sum().sort_values(ascending=False))"
      ],
      "metadata": {
        "id": "Xv_U40nzasgl",
        "outputId": "2734285c-e773-4c4e-802c-13045e7576aa",
        "colab": {
          "base_uri": "https://localhost:8080/"
        }
      },
      "execution_count": null,
      "outputs": [
        {
          "output_type": "stream",
          "name": "stdout",
          "text": [
            "Member_number      0\n",
            "Date               0\n",
            "Transaction        0\n",
            "itemDescription    0\n",
            "dtype: int64\n"
          ]
        }
      ]
    },
    {
      "cell_type": "markdown",
      "source": [
        "Terlihat bahwa pada dataset tidak terdapat missing value dan zeros"
      ],
      "metadata": {
        "id": "UGtXdEUhrGnM"
      }
    },
    {
      "cell_type": "code",
      "source": [
        "# cek nilai \"NONE\" pada kolom Item\n",
        "print(df[df['itemDescription']=='NONE'])"
      ],
      "metadata": {
        "id": "rPSVH7n1asdz",
        "outputId": "18880ef6-bd1c-41d1-82f5-d8e8a3c1f1e3",
        "colab": {
          "base_uri": "https://localhost:8080/"
        }
      },
      "execution_count": null,
      "outputs": [
        {
          "output_type": "stream",
          "name": "stdout",
          "text": [
            "Empty DataFrame\n",
            "Columns: [Member_number, Date, Transaction, itemDescription]\n",
            "Index: []\n"
          ]
        }
      ]
    },
    {
      "cell_type": "code",
      "source": [
        "# menghapus baris dengan nilai Item = None\n",
        "df.drop(df[df['itemDescription']=='NONE'].index, inplace=True)"
      ],
      "metadata": {
        "id": "gPWL1Sq-asbF"
      },
      "execution_count": null,
      "outputs": []
    },
    {
      "cell_type": "code",
      "source": [
        "# cek perubahan yang terjadi\n",
        "print(df.info())"
      ],
      "metadata": {
        "id": "zLG1ebstasYd",
        "outputId": "775396bf-1752-4756-a33f-238f5740ce1f",
        "colab": {
          "base_uri": "https://localhost:8080/"
        }
      },
      "execution_count": null,
      "outputs": [
        {
          "output_type": "stream",
          "name": "stdout",
          "text": [
            "<class 'pandas.core.frame.DataFrame'>\n",
            "Int64Index: 20000 entries, 0 to 19999\n",
            "Data columns (total 4 columns):\n",
            " #   Column           Non-Null Count  Dtype \n",
            "---  ------           --------------  ----- \n",
            " 0   Member_number    20000 non-null  int64 \n",
            " 1   Date             20000 non-null  object\n",
            " 2   Transaction      20000 non-null  int64 \n",
            " 3   itemDescription  20000 non-null  object\n",
            "dtypes: int64(2), object(2)\n",
            "memory usage: 781.2+ KB\n",
            "None\n"
          ]
        }
      ]
    },
    {
      "cell_type": "markdown",
      "source": [
        "## **4. Visualisasi dan Memahami Data**\n",
        "Kita tahu bahwa dataset ini direkam dari 01/01/2014 hingga 30/12/2015. Sebelum kita masuk dalam pemodelan, kita harus mengeksplorasi dan memvisualisasikan penjualan dalam periode waktu ini. Barang apa yang paling banyak dibeli pelanggan? Bulan mana yang lebih sukses? Mari kita jawab ini secara visual.\n"
      ],
      "metadata": {
        "id": "wyge9sJWtyZk"
      }
    },
    {
      "cell_type": "code",
      "source": [
        "# Mencetak 20 data penjualan item terbanyak\n",
        "most_sold = df['itemDescription'].value_counts().head(20)\n",
        "\n",
        "print('Most Sold Items: \\n')\n",
        "print(most_sold)"
      ],
      "metadata": {
        "id": "-uePwUu-asPm",
        "outputId": "3504ff98-d0fd-44e5-cd3d-637485762b2b",
        "colab": {
          "base_uri": "https://localhost:8080/"
        }
      },
      "execution_count": null,
      "outputs": [
        {
          "output_type": "stream",
          "name": "stdout",
          "text": [
            "Most Sold Items: \n",
            "\n",
            "whole milk          1607\n",
            "other vegetables    1186\n",
            "sausage              924\n",
            "tropical fruit       898\n",
            "rolls/buns           843\n",
            "root vegetables      749\n",
            "citrus fruit         736\n",
            "soda                 672\n",
            "yogurt               596\n",
            "frankfurter          580\n",
            "pip fruit            574\n",
            "pork                 531\n",
            "beef                 475\n",
            "canned beer          456\n",
            "chicken              406\n",
            "bottled water        385\n",
            "bottled beer         348\n",
            "pastry               315\n",
            "hamburger meat       293\n",
            "ham                  252\n",
            "Name: itemDescription, dtype: int64\n"
          ]
        }
      ]
    },
    {
      "cell_type": "code",
      "source": [
        "transaction_count = df.groupby(by='itemDescription')[['Transaction']].count().sort_values(by='Transaction', ascending=False)\n",
        "def convert_to_percentage(x):\n",
        "    return 100 * x / float(x.sum())\n",
        "\n",
        "transaction_percentage = transaction_count.apply(convert_to_percentage)\n",
        "transaction_percentage.head()"
      ],
      "metadata": {
        "id": "SM5G3gbbv2jC",
        "outputId": "f63243a3-8f76-4c09-8d7c-595fdfb36feb",
        "colab": {
          "base_uri": "https://localhost:8080/",
          "height": 238
        }
      },
      "execution_count": null,
      "outputs": [
        {
          "output_type": "execute_result",
          "data": {
            "text/plain": [
              "                  Transaction\n",
              "itemDescription              \n",
              "whole milk              8.035\n",
              "other vegetables        5.930\n",
              "sausage                 4.620\n",
              "tropical fruit          4.490\n",
              "rolls/buns              4.215"
            ],
            "text/html": [
              "\n",
              "  <div id=\"df-620ee676-0519-461b-8df7-6891e751344b\">\n",
              "    <div class=\"colab-df-container\">\n",
              "      <div>\n",
              "<style scoped>\n",
              "    .dataframe tbody tr th:only-of-type {\n",
              "        vertical-align: middle;\n",
              "    }\n",
              "\n",
              "    .dataframe tbody tr th {\n",
              "        vertical-align: top;\n",
              "    }\n",
              "\n",
              "    .dataframe thead th {\n",
              "        text-align: right;\n",
              "    }\n",
              "</style>\n",
              "<table border=\"1\" class=\"dataframe\">\n",
              "  <thead>\n",
              "    <tr style=\"text-align: right;\">\n",
              "      <th></th>\n",
              "      <th>Transaction</th>\n",
              "    </tr>\n",
              "    <tr>\n",
              "      <th>itemDescription</th>\n",
              "      <th></th>\n",
              "    </tr>\n",
              "  </thead>\n",
              "  <tbody>\n",
              "    <tr>\n",
              "      <th>whole milk</th>\n",
              "      <td>8.035</td>\n",
              "    </tr>\n",
              "    <tr>\n",
              "      <th>other vegetables</th>\n",
              "      <td>5.930</td>\n",
              "    </tr>\n",
              "    <tr>\n",
              "      <th>sausage</th>\n",
              "      <td>4.620</td>\n",
              "    </tr>\n",
              "    <tr>\n",
              "      <th>tropical fruit</th>\n",
              "      <td>4.490</td>\n",
              "    </tr>\n",
              "    <tr>\n",
              "      <th>rolls/buns</th>\n",
              "      <td>4.215</td>\n",
              "    </tr>\n",
              "  </tbody>\n",
              "</table>\n",
              "</div>\n",
              "      <button class=\"colab-df-convert\" onclick=\"convertToInteractive('df-620ee676-0519-461b-8df7-6891e751344b')\"\n",
              "              title=\"Convert this dataframe to an interactive table.\"\n",
              "              style=\"display:none;\">\n",
              "        \n",
              "  <svg xmlns=\"http://www.w3.org/2000/svg\" height=\"24px\"viewBox=\"0 0 24 24\"\n",
              "       width=\"24px\">\n",
              "    <path d=\"M0 0h24v24H0V0z\" fill=\"none\"/>\n",
              "    <path d=\"M18.56 5.44l.94 2.06.94-2.06 2.06-.94-2.06-.94-.94-2.06-.94 2.06-2.06.94zm-11 1L8.5 8.5l.94-2.06 2.06-.94-2.06-.94L8.5 2.5l-.94 2.06-2.06.94zm10 10l.94 2.06.94-2.06 2.06-.94-2.06-.94-.94-2.06-.94 2.06-2.06.94z\"/><path d=\"M17.41 7.96l-1.37-1.37c-.4-.4-.92-.59-1.43-.59-.52 0-1.04.2-1.43.59L10.3 9.45l-7.72 7.72c-.78.78-.78 2.05 0 2.83L4 21.41c.39.39.9.59 1.41.59.51 0 1.02-.2 1.41-.59l7.78-7.78 2.81-2.81c.8-.78.8-2.07 0-2.86zM5.41 20L4 18.59l7.72-7.72 1.47 1.35L5.41 20z\"/>\n",
              "  </svg>\n",
              "      </button>\n",
              "      \n",
              "  <style>\n",
              "    .colab-df-container {\n",
              "      display:flex;\n",
              "      flex-wrap:wrap;\n",
              "      gap: 12px;\n",
              "    }\n",
              "\n",
              "    .colab-df-convert {\n",
              "      background-color: #E8F0FE;\n",
              "      border: none;\n",
              "      border-radius: 50%;\n",
              "      cursor: pointer;\n",
              "      display: none;\n",
              "      fill: #1967D2;\n",
              "      height: 32px;\n",
              "      padding: 0 0 0 0;\n",
              "      width: 32px;\n",
              "    }\n",
              "\n",
              "    .colab-df-convert:hover {\n",
              "      background-color: #E2EBFA;\n",
              "      box-shadow: 0px 1px 2px rgba(60, 64, 67, 0.3), 0px 1px 3px 1px rgba(60, 64, 67, 0.15);\n",
              "      fill: #174EA6;\n",
              "    }\n",
              "\n",
              "    [theme=dark] .colab-df-convert {\n",
              "      background-color: #3B4455;\n",
              "      fill: #D2E3FC;\n",
              "    }\n",
              "\n",
              "    [theme=dark] .colab-df-convert:hover {\n",
              "      background-color: #434B5C;\n",
              "      box-shadow: 0px 1px 3px 1px rgba(0, 0, 0, 0.15);\n",
              "      filter: drop-shadow(0px 1px 2px rgba(0, 0, 0, 0.3));\n",
              "      fill: #FFFFFF;\n",
              "    }\n",
              "  </style>\n",
              "\n",
              "      <script>\n",
              "        const buttonEl =\n",
              "          document.querySelector('#df-620ee676-0519-461b-8df7-6891e751344b button.colab-df-convert');\n",
              "        buttonEl.style.display =\n",
              "          google.colab.kernel.accessAllowed ? 'block' : 'none';\n",
              "\n",
              "        async function convertToInteractive(key) {\n",
              "          const element = document.querySelector('#df-620ee676-0519-461b-8df7-6891e751344b');\n",
              "          const dataTable =\n",
              "            await google.colab.kernel.invokeFunction('convertToInteractive',\n",
              "                                                     [key], {});\n",
              "          if (!dataTable) return;\n",
              "\n",
              "          const docLinkHtml = 'Like what you see? Visit the ' +\n",
              "            '<a target=\"_blank\" href=https://colab.research.google.com/notebooks/data_table.ipynb>data table notebook</a>'\n",
              "            + ' to learn more about interactive tables.';\n",
              "          element.innerHTML = '';\n",
              "          dataTable['output_type'] = 'display_data';\n",
              "          await google.colab.output.renderOutput(dataTable, element);\n",
              "          const docLink = document.createElement('div');\n",
              "          docLink.innerHTML = docLinkHtml;\n",
              "          element.appendChild(docLink);\n",
              "        }\n",
              "      </script>\n",
              "    </div>\n",
              "  </div>\n",
              "  "
            ]
          },
          "metadata": {},
          "execution_count": 104
        }
      ]
    },
    {
      "cell_type": "code",
      "source": [
        "# visualisasikan data penjualan item terbanyak ke line chart dan bar chart\n",
        "plt.figure(figsize=(20,6))\n",
        "\n",
        "plt.subplot(1,2,1)\n",
        "#plt.plot(most_sold)\n",
        "most_sold.plot(kind='line')\n",
        "plt.title('Items Most Sold')\n",
        "\n",
        "\n",
        "plt.subplot(1,2,2)\n",
        "most_sold.plot(kind='bar')\n",
        "plt.title('Items Most Sold')"
      ],
      "metadata": {
        "id": "W_3hF2KaasMm",
        "outputId": "ce2e3f61-8ee6-46cf-c123-69b7c4428d43",
        "colab": {
          "base_uri": "https://localhost:8080/",
          "height": 409
        }
      },
      "execution_count": null,
      "outputs": [
        {
          "output_type": "execute_result",
          "data": {
            "text/plain": [
              "Text(0.5, 1.0, 'Items Most Sold')"
            ]
          },
          "metadata": {},
          "execution_count": 105
        },
        {
          "output_type": "display_data",
          "data": {
            "text/plain": [
              "<Figure size 1440x432 with 2 Axes>"
            ],
            "image/png": "[encoded data removed]"
          },
          "metadata": {
            "needs_background": "light"
          }
        }
      ]
    },
    {
      "cell_type": "markdown",
      "source": [
        "## **5. Market Basket Analysis**"
      ],
      "metadata": {
        "id": "sAnhfA6tmFyD"
      }
    },
    {
      "cell_type": "markdown",
      "source": [
        "Pertama kita mengubah item list menjadi data transaksi dengan menggunakan TransactionEncoder.\n",
        "Kita akan menggunakan frequent item-sets untuk menghasilkan aturan asosiasi dengan menggunakan algoritma Apriori.\n"
      ],
      "metadata": {
        "id": "R4E90s6umYB1"
      }
    },
    {
      "cell_type": "code",
      "source": [
        "from mlxtend.preprocessing import TransactionEncoder\n",
        "from mlxtend.frequent_patterns import association_rules, apriori"
      ],
      "metadata": {
        "id": "L82xUMNIa93T"
      },
      "execution_count": null,
      "outputs": []
    },
    {
      "cell_type": "markdown",
      "source": [
        "kita membuat list transaction_list() yang unik sehingga kita dapat mengubah data kita ke dalam format yang benar "
      ],
      "metadata": {
        "id": "M_lj3kvwqLE0"
      }
    },
    {
      "cell_type": "code",
      "source": [
        "transaction_list = []\n",
        "\n",
        "# For loop to create a list of the unique transactions throughout the dataset:\n",
        "for i in df['Transaction'].unique():\n",
        "    tlist = list(set(df[df['Transaction']==i]['itemDescription']))\n",
        "    if len(tlist)>0:\n",
        "        transaction_list.append(tlist)\n",
        "print(len(transaction_list))"
      ],
      "metadata": {
        "id": "0v8X7l5Ma90i",
        "outputId": "8ad52a6d-cf9d-4497-ed25-f60245010548",
        "colab": {
          "base_uri": "https://localhost:8080/"
        }
      },
      "execution_count": null,
      "outputs": [
        {
          "output_type": "stream",
          "name": "stdout",
          "text": [
            "8976\n"
          ]
        }
      ]
    },
    {
      "cell_type": "markdown",
      "source": [
        "kita menggunakan TransactionEncoder untuk merubah bentuk transaction_list()"
      ],
      "metadata": {
        "id": "QmtvWrBTq2F-"
      }
    },
    {
      "cell_type": "code",
      "source": [
        "te = TransactionEncoder()\n",
        "te_ary = te.fit(transaction_list).transform(transaction_list)\n",
        "df2 = pd.DataFrame(te_ary, columns=te.columns_)"
      ],
      "metadata": {
        "id": "19tdfChHa9xm"
      },
      "execution_count": null,
      "outputs": []
    },
    {
      "cell_type": "markdown",
      "source": [
        "Sekarang kita terapkan Apriori. Kita akan menggunakan parameter min_threshold (nilai ambang batas yang ditentukan) dalam aturan asosiasi untuk metrik lift menjadi 1,0 karena jika kurang dari satu, maka kedua item tersebut kemungkinan tidak akan dibeli bersama. Kita akan mengurutkan nilai berdasarkan keyakinan untuk melihat kemungkinan suatu barang dibeli jika pendahulunya dibeli."
      ],
      "metadata": {
        "id": "kffaMg3SraLA"
      }
    },
    {
      "cell_type": "code",
      "source": [
        "frequent_itemsets = apriori(df2, min_support=0.01, use_colnames=True)\n",
        "rules = association_rules(frequent_itemsets, metric='lift', min_threshold=1.0)\n",
        "metrix = pd.DataFrame(rules)\n",
        "metrix[['antecedents','consequents', 'support', 'confidence', 'lift']].sort_values('lift', ascending=False)"
      ],
      "metadata": {
        "id": "Q8e9VpIIa9u6",
        "colab": {
          "base_uri": "https://localhost:8080/",
          "height": 112
        },
        "outputId": "725e7061-a1dd-4afb-fadb-bab27881973a"
      },
      "execution_count": null,
      "outputs": [
        {
          "output_type": "execute_result",
          "data": {
            "text/plain": [
              "    antecedents   consequents   support  confidence      lift\n",
              "0  (whole milk)  (rolls/buns)  0.014483    0.088737  1.001893\n",
              "1  (rolls/buns)  (whole milk)  0.014483    0.163522  1.001893"
            ],
            "text/html": [
              "\n",
              "  <div id=\"df-c95d08ad-1a08-4be8-acd9-adf2b5ee22d5\">\n",
              "    <div class=\"colab-df-container\">\n",
              "      <div>\n",
              "<style scoped>\n",
              "    .dataframe tbody tr th:only-of-type {\n",
              "        vertical-align: middle;\n",
              "    }\n",
              "\n",
              "    .dataframe tbody tr th {\n",
              "        vertical-align: top;\n",
              "    }\n",
              "\n",
              "    .dataframe thead th {\n",
              "        text-align: right;\n",
              "    }\n",
              "</style>\n",
              "<table border=\"1\" class=\"dataframe\">\n",
              "  <thead>\n",
              "    <tr style=\"text-align: right;\">\n",
              "      <th></th>\n",
              "      <th>antecedents</th>\n",
              "      <th>consequents</th>\n",
              "      <th>support</th>\n",
              "      <th>confidence</th>\n",
              "      <th>lift</th>\n",
              "    </tr>\n",
              "  </thead>\n",
              "  <tbody>\n",
              "    <tr>\n",
              "      <th>0</th>\n",
              "      <td>(whole milk)</td>\n",
              "      <td>(rolls/buns)</td>\n",
              "      <td>0.014483</td>\n",
              "      <td>0.088737</td>\n",
              "      <td>1.001893</td>\n",
              "    </tr>\n",
              "    <tr>\n",
              "      <th>1</th>\n",
              "      <td>(rolls/buns)</td>\n",
              "      <td>(whole milk)</td>\n",
              "      <td>0.014483</td>\n",
              "      <td>0.163522</td>\n",
              "      <td>1.001893</td>\n",
              "    </tr>\n",
              "  </tbody>\n",
              "</table>\n",
              "</div>\n",
              "      <button class=\"colab-df-convert\" onclick=\"convertToInteractive('df-c95d08ad-1a08-4be8-acd9-adf2b5ee22d5')\"\n",
              "              title=\"Convert this dataframe to an interactive table.\"\n",
              "              style=\"display:none;\">\n",
              "        \n",
              "  <svg xmlns=\"http://www.w3.org/2000/svg\" height=\"24px\"viewBox=\"0 0 24 24\"\n",
              "       width=\"24px\">\n",
              "    <path d=\"M0 0h24v24H0V0z\" fill=\"none\"/>\n",
              "    <path d=\"M18.56 5.44l.94 2.06.94-2.06 2.06-.94-2.06-.94-.94-2.06-.94 2.06-2.06.94zm-11 1L8.5 8.5l.94-2.06 2.06-.94-2.06-.94L8.5 2.5l-.94 2.06-2.06.94zm10 10l.94 2.06.94-2.06 2.06-.94-2.06-.94-.94-2.06-.94 2.06-2.06.94z\"/><path d=\"M17.41 7.96l-1.37-1.37c-.4-.4-.92-.59-1.43-.59-.52 0-1.04.2-1.43.59L10.3 9.45l-7.72 7.72c-.78.78-.78 2.05 0 2.83L4 21.41c.39.39.9.59 1.41.59.51 0 1.02-.2 1.41-.59l7.78-7.78 2.81-2.81c.8-.78.8-2.07 0-2.86zM5.41 20L4 18.59l7.72-7.72 1.47 1.35L5.41 20z\"/>\n",
              "  </svg>\n",
              "      </button>\n",
              "      \n",
              "  <style>\n",
              "    .colab-df-container {\n",
              "      display:flex;\n",
              "      flex-wrap:wrap;\n",
              "      gap: 12px;\n",
              "    }\n",
              "\n",
              "    .colab-df-convert {\n",
              "      background-color: #E8F0FE;\n",
              "      border: none;\n",
              "      border-radius: 50%;\n",
              "      cursor: pointer;\n",
              "      display: none;\n",
              "      fill: #1967D2;\n",
              "      height: 32px;\n",
              "      padding: 0 0 0 0;\n",
              "      width: 32px;\n",
              "    }\n",
              "\n",
              "    .colab-df-convert:hover {\n",
              "      background-color: #E2EBFA;\n",
              "      box-shadow: 0px 1px 2px rgba(60, 64, 67, 0.3), 0px 1px 3px 1px rgba(60, 64, 67, 0.15);\n",
              "      fill: #174EA6;\n",
              "    }\n",
              "\n",
              "    [theme=dark] .colab-df-convert {\n",
              "      background-color: #3B4455;\n",
              "      fill: #D2E3FC;\n",
              "    }\n",
              "\n",
              "    [theme=dark] .colab-df-convert:hover {\n",
              "      background-color: #434B5C;\n",
              "      box-shadow: 0px 1px 3px 1px rgba(0, 0, 0, 0.15);\n",
              "      filter: drop-shadow(0px 1px 2px rgba(0, 0, 0, 0.3));\n",
              "      fill: #FFFFFF;\n",
              "    }\n",
              "  </style>\n",
              "\n",
              "      <script>\n",
              "        const buttonEl =\n",
              "          document.querySelector('#df-c95d08ad-1a08-4be8-acd9-adf2b5ee22d5 button.colab-df-convert');\n",
              "        buttonEl.style.display =\n",
              "          google.colab.kernel.accessAllowed ? 'block' : 'none';\n",
              "\n",
              "        async function convertToInteractive(key) {\n",
              "          const element = document.querySelector('#df-c95d08ad-1a08-4be8-acd9-adf2b5ee22d5');\n",
              "          const dataTable =\n",
              "            await google.colab.kernel.invokeFunction('convertToInteractive',\n",
              "                                                     [key], {});\n",
              "          if (!dataTable) return;\n",
              "\n",
              "          const docLinkHtml = 'Like what you see? Visit the ' +\n",
              "            '<a target=\"_blank\" href=https://colab.research.google.com/notebooks/data_table.ipynb>data table notebook</a>'\n",
              "            + ' to learn more about interactive tables.';\n",
              "          element.innerHTML = '';\n",
              "          dataTable['output_type'] = 'display_data';\n",
              "          await google.colab.output.renderOutput(dataTable, element);\n",
              "          const docLink = document.createElement('div');\n",
              "          docLink.innerHTML = docLinkHtml;\n",
              "          element.appendChild(docLink);\n",
              "        }\n",
              "      </script>\n",
              "    </div>\n",
              "  </div>\n",
              "  "
            ]
          },
          "metadata": {},
          "execution_count": 111
        }
      ]
    },
    {
      "cell_type": "markdown",
      "source": [
        "# **Kesimpulan**\n",
        "\n",
        "Dapat dilihat dari analisis diatas, di mana semakin tinggi nilai peningkatan, semakin kuat korelasi antar item. Data dengan jelas menunjukkan bahwa whole milk adalah konsekuensi populer, yang masuk akal karena itu adalah groceries. Selain whole milk, mari kita lihat korelasi item yang lebih menarik \n",
        "(format: antecedant(s) -> consequent):\n",
        "\n",
        "\n",
        "> Kue Kering -> Roti\n",
        "\n",
        "> Kue -> Teh\n",
        "\n",
        "> (Kopi + Teh) -> Kue\n",
        "\n",
        "> Sandwhich -> Teh\n",
        "\n",
        "> Cokelat Panas -> Kue\n",
        "\n",
        "\n",
        "Bisnis selalu mencari cara untuk mengoptimalkan pengaturan mereka dan meningkatkan penjualan mereka. Toko roti tidak berbeda, dan analisis semacam ini bisa dilakukan untuk semua jenis toko ritel atau pasar juga. Karena kita sekarang mengetahui korelasi antara item dan kepentingan bersama pelanggan, bisnis dapat membuat keputusan berdasarkan temuan ini. Misalnya, toko roti ini mungkin ingin meletakkan roti yang baru dipanggang di dekat kue kering mereka, karena pelanggan yang membeli kue kering tampaknya juga tertarik dengan roti. Selain penempatan produk, toko roti mungkin juga tertarik untuk mengadakan promosi item gratis, mengingat kemungkinan besar item lain dijual sebagai hasilnya (Misalnya, jika mereka memberikan beberapa roti panggang spesial gratis, itu mungkin tidak hanya menarik pelanggan baru yang sering datang, tetapi juga ada peluang yang sangat bagus bahwa pelanggan masih akan menghabiskan uang untuk kopi).\n",
        "\n"
      ],
      "metadata": {
        "id": "fbgS4hYzzLAA"
      }
    }
  ]
}